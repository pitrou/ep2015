{
 "cells": [
  {
   "cell_type": "code",
   "execution_count": 1,
   "metadata": {
    "collapsed": true
   },
   "outputs": [],
   "source": [
    "import numba\n",
    "import numpy as np"
   ]
  },
  {
   "cell_type": "code",
   "execution_count": 2,
   "metadata": {
    "collapsed": true
   },
   "outputs": [],
   "source": [
    "@numba.jit\n",
    "def f(x):\n",
    "    res = 0\n",
    "    for i in range(x):\n",
    "        res += i\n",
    "    return res"
   ]
  },
  {
   "cell_type": "code",
   "execution_count": 10,
   "metadata": {
    "collapsed": false
   },
   "outputs": [
    {
     "name": "stdout",
     "output_type": "stream",
     "text": [
      "1000000 loops, best of 3: 211 ns per loop\n"
     ]
    }
   ],
   "source": [
    "%timeit -c f(10)"
   ]
  },
  {
   "cell_type": "code",
   "execution_count": 15,
   "metadata": {
    "collapsed": false
   },
   "outputs": [
    {
     "name": "stdout",
     "output_type": "stream",
     "text": [
      "1000000 loops, best of 3: 231 ns per loop\n"
     ]
    }
   ],
   "source": [
    "%timeit -c f(100000)"
   ]
  },
  {
   "cell_type": "code",
   "execution_count": 16,
   "metadata": {
    "collapsed": false
   },
   "outputs": [
    {
     "name": "stdout",
     "output_type": "stream",
     "text": [
      "\t.text\n",
      "\t.file\t\"<string>\"\n",
      "\t.globl\t__main__.f$1.int64\n",
      "\t.align\t16, 0x90\n",
      "\t.type\t__main__.f$1.int64,@function\n",
      "__main__.f$1.int64:\n",
      "\txorl\t%edx, %edx\n",
      "\ttestq\t%rcx, %rcx\n",
      "\tjle\t.LBB0_2\n",
      "\tmovq\t%rcx, %rax\n",
      "\tnegq\t%rax\n",
      "\tcmpq\t$-2, %rax\n",
      "\tmovq\t$-1, %rdx\n",
      "\tcmovgq\t%rax, %rdx\n",
      "\tleaq\t(%rdx,%rcx), %rsi\n",
      "\tleaq\t-1(%rdx,%rcx), %rax\n",
      "\tmulq\t%rsi\n",
      "\tshldq\t$63, %rax, %rdx\n",
      "\taddq\t%rsi, %rdx\n",
      ".LBB0_2:\n",
      "\tmovq\t%rdx, (%rdi)\n",
      "\txorl\t%eax, %eax\n",
      "\tretq\n",
      ".Ltmp0:\n",
      "\t.size\t__main__.f$1.int64, .Ltmp0-__main__.f$1.int64\n",
      "\n",
      "\t.globl\twrapper.__main__.f$1.int64\n",
      "\t.align\t16, 0x90\n",
      "\t.type\twrapper.__main__.f$1.int64,@function\n",
      "wrapper.__main__.f$1.int64:\n",
      "\t.cfi_startproc\n",
      "\tpushq\t%r14\n",
      ".Ltmp1:\n",
      "\t.cfi_def_cfa_offset 16\n",
      "\tpushq\t%rbx\n",
      ".Ltmp2:\n",
      "\t.cfi_def_cfa_offset 24\n",
      "\tpushq\t%rax\n",
      ".Ltmp3:\n",
      "\t.cfi_def_cfa_offset 32\n",
      ".Ltmp4:\n",
      "\t.cfi_offset %rbx, -24\n",
      ".Ltmp5:\n",
      "\t.cfi_offset %r14, -16\n",
      "\tmovq\t%rdx, %rbx\n",
      "\tmovabsq\t$.const.O, %rdx\n",
      "\tmovabsq\t$.kwlist, %rcx\n",
      "\tmovabsq\t$PyArg_ParseTupleAndKeywords, %r9\n",
      "\tleaq\t(%rsp), %r8\n",
      "\txorl\t%eax, %eax\n",
      "\tmovq\t%rsi, %rdi\n",
      "\tmovq\t%rbx, %rsi\n",
      "\tcallq\t*%r9\n",
      "\ttestl\t%eax, %eax\n",
      "\tje\t.LBB1_1\n",
      "\tmovq\t(%rsp), %rdi\n",
      "\tmovabsq\t$PyNumber_Long, %rax\n",
      "\tcallq\t*%rax\n",
      "\tmovq\t%rax, %rbx\n",
      "\ttestq\t%rbx, %rbx\n",
      "\tje\t.LBB1_5\n",
      "\tmovabsq\t$PyLong_AsLongLong, %rax\n",
      "\tmovq\t%rbx, %rdi\n",
      "\tcallq\t*%rax\n",
      "\tmovq\t%rax, %r14\n",
      "\tmovabsq\t$Py_DecRef, %rax\n",
      "\tmovq\t%rbx, %rdi\n",
      "\tcallq\t*%rax\n",
      ".LBB1_5:\n",
      "\tmovabsq\t$PyErr_Occurred, %rax\n",
      "\tcallq\t*%rax\n",
      "\ttestq\t%rax, %rax\n",
      "\tjne\t.LBB1_1\n",
      "\txorl\t%edi, %edi\n",
      "\ttestq\t%r14, %r14\n",
      "\tjle\t.LBB1_8\n",
      "\tmovq\t%r14, %rax\n",
      "\tnegq\t%rax\n",
      "\tcmpq\t$-2, %rax\n",
      "\tmovq\t$-1, %rcx\n",
      "\tcmovgq\t%rax, %rcx\n",
      "\tleaq\t(%rcx,%r14), %rsi\n",
      "\tleaq\t-1(%rcx,%r14), %rax\n",
      "\tmulq\t%rsi\n",
      "\tmovq\t%rdx, %rdi\n",
      "\tshldq\t$63, %rax, %rdi\n",
      "\taddq\t%rsi, %rdi\n",
      ".LBB1_8:\n",
      "\tmovabsq\t$PyLong_FromLongLong, %rax\n",
      "\tcallq\t*%rax\n",
      ".LBB1_2:\n",
      "\taddq\t$8, %rsp\n",
      "\tpopq\t%rbx\n",
      "\tpopq\t%r14\n",
      "\tretq\n",
      ".LBB1_1:\n",
      "\txorl\t%eax, %eax\n",
      "\tjmp\t.LBB1_2\n",
      ".Ltmp6:\n",
      "\t.size\twrapper.__main__.f$1.int64, .Ltmp6-wrapper.__main__.f$1.int64\n",
      "\t.cfi_endproc\n",
      "\n",
      "\t.type\t.const.x,@object\n",
      "\t.section\t.rodata,\"a\",@progbits\n",
      ".const.x:\n",
      "\t.asciz\t\"x\"\n",
      "\t.size\t.const.x, 2\n",
      "\n",
      "\t.type\t.kwlist,@object\n",
      "\t.align\t8\n",
      ".kwlist:\n",
      "\t.quad\t.const.x\n",
      "\t.quad\t0\n",
      "\t.size\t.kwlist, 16\n",
      "\n",
      "\t.type\t.const.O,@object\n",
      ".const.O:\n",
      "\t.asciz\t\"O\"\n",
      "\t.size\t.const.O, 2\n",
      "\n",
      "\n",
      "\t.section\t\".note.GNU-stack\",\"\",@progbits\n",
      "\n"
     ]
    }
   ],
   "source": [
    "print(f.inspect_asm((numba.int64,)))"
   ]
  },
  {
   "cell_type": "code",
   "execution_count": null,
   "metadata": {
    "collapsed": true
   },
   "outputs": [],
   "source": []
  }
 ],
 "metadata": {
  "kernelspec": {
   "display_name": "Python 3",
   "language": "python",
   "name": "python3"
  },
  "language_info": {
   "codemirror_mode": {
    "name": "ipython",
    "version": 3
   },
   "file_extension": ".py",
   "mimetype": "text/x-python",
   "name": "python",
   "nbconvert_exporter": "python",
   "pygments_lexer": "ipython3",
   "version": "3.4.3"
  }
 },
 "nbformat": 4,
 "nbformat_minor": 0
}
