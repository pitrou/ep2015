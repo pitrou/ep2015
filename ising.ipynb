{
 "cells": [
  {
   "cell_type": "code",
   "execution_count": 4,
   "metadata": {
    "collapsed": true
   },
   "outputs": [],
   "source": [
    "import numba\n",
    "import numpy as np\n",
    "import math"
   ]
  },
  {
   "cell_type": "code",
   "execution_count": 5,
   "metadata": {
    "collapsed": false
   },
   "outputs": [],
   "source": [
    "kT = 2 / math.log(1 + math.sqrt(2), math.e)\n",
    "\n",
    "@numba.jit(nopython=True)\n",
    "def update_one_element(x, i, j):\n",
    "    n, m = x.shape\n",
    "    assert n > 0\n",
    "    assert m > 0\n",
    "    dE = 2 * x[i, j] * (\n",
    "                     x[(i-1)%n, (j-1)%m]\n",
    "                   + x[(i-1)%n,  j     ]\n",
    "                   + x[(i-1)%n, (j+1)%m]\n",
    "\n",
    "                   + x[ i     , (j-1)%m]\n",
    "                   + x[ i     , (j+1)%m]\n",
    "\n",
    "                   + x[(i+1)%n, (j-1)%m]\n",
    "                   + x[(i+1)%n,  j     ]\n",
    "                   + x[(i+1)%n, (j+1)%m]\n",
    "                   )\n",
    "    if dE <= 0 or exp(-dE / kT) > np.random.random():\n",
    "        x[i, j] = -x[i, j]\n",
    "\n",
    "@numba.jit(nopython=True)\n",
    "def update_one_frame(x):\n",
    "    n, m = x.shape\n",
    "    for i in range(n):\n",
    "        for j in range(0, m, 2):  # Even columns first to avoid overlap\n",
    "            update_one_element(x, j, i)\n",
    "    for i in range(n):\n",
    "        for j in range(1, m, 2):  # Odd columns second to avoid overlap\n",
    "            update_one_element(x, j, i)"
   ]
  },
  {
   "cell_type": "code",
   "execution_count": null,
   "metadata": {
    "collapsed": true
   },
   "outputs": [],
   "source": []
  }
 ],
 "metadata": {
  "kernelspec": {
   "display_name": "Python 3",
   "language": "python",
   "name": "python3"
  },
  "language_info": {
   "codemirror_mode": {
    "name": "ipython",
    "version": 3
   },
   "file_extension": ".py",
   "mimetype": "text/x-python",
   "name": "python",
   "nbconvert_exporter": "python",
   "pygments_lexer": "ipython3",
   "version": "3.4.3"
  }
 },
 "nbformat": 4,
 "nbformat_minor": 0
}
